{
 "metadata": {
  "language_info": {
   "codemirror_mode": {
    "name": "ipython",
    "version": 3
   },
   "file_extension": ".py",
   "mimetype": "text/x-python",
   "name": "python",
   "nbconvert_exporter": "python",
   "pygments_lexer": "ipython3",
   "version": "3.7.4"
  },
  "orig_nbformat": 2,
  "kernelspec": {
   "name": "python374jvsc74a57bd0b3ba2566441a7c06988d0923437866b63cedc61552a5af99d1f4fb67d367b25f",
   "display_name": "Python 3.7.4 64-bit ('base': conda)"
  }
 },
 "nbformat": 4,
 "nbformat_minor": 2,
 "cells": [
  {
   "cell_type": "code",
   "execution_count": 276,
   "metadata": {},
   "outputs": [],
   "source": [
    "#imports\n",
    "\n",
    "import numpy\n",
    "import pandas as pd\n",
    "import math\n",
    "import datetime\n",
    "import holidays\n",
    "from matplotlib import pyplot as plt"
   ]
  },
  {
   "cell_type": "code",
   "execution_count": 277,
   "metadata": {},
   "outputs": [],
   "source": [
    "#allow to change individual cell values\n",
    "pd.set_option('mode.chained_assignment', None)\n",
    "\n",
    "data = pd.read_csv(\"ResumoDataEnsaios.csv\", delimiter=\";\")"
   ]
  },
  {
   "cell_type": "code",
   "execution_count": 278,
   "metadata": {},
   "outputs": [],
   "source": [
    "data = data.rename(columns={'Data Ensaio': 'Data'})\n",
    "data = data.drop(columns='Projeto')\n",
    "data = data.dropna()"
   ]
  },
  {
   "cell_type": "code",
   "execution_count": 279,
   "metadata": {},
   "outputs": [
    {
     "output_type": "execute_result",
     "data": {
      "text/plain": [
       "  Tipo        Data  Duraçao\n",
       "0   CT  17/04/2019      3.0\n",
       "1   CT  27/08/2018      3.0\n",
       "2   CT  04/06/2018      3.0\n",
       "3   CT  22/01/2018      3.0\n",
       "4   CT  26/03/2018      4.0"
      ],
      "text/html": "<div>\n<style scoped>\n    .dataframe tbody tr th:only-of-type {\n        vertical-align: middle;\n    }\n\n    .dataframe tbody tr th {\n        vertical-align: top;\n    }\n\n    .dataframe thead th {\n        text-align: right;\n    }\n</style>\n<table border=\"1\" class=\"dataframe\">\n  <thead>\n    <tr style=\"text-align: right;\">\n      <th></th>\n      <th>Tipo</th>\n      <th>Data</th>\n      <th>Duraçao</th>\n    </tr>\n  </thead>\n  <tbody>\n    <tr>\n      <td>0</td>\n      <td>CT</td>\n      <td>17/04/2019</td>\n      <td>3.0</td>\n    </tr>\n    <tr>\n      <td>1</td>\n      <td>CT</td>\n      <td>27/08/2018</td>\n      <td>3.0</td>\n    </tr>\n    <tr>\n      <td>2</td>\n      <td>CT</td>\n      <td>04/06/2018</td>\n      <td>3.0</td>\n    </tr>\n    <tr>\n      <td>3</td>\n      <td>CT</td>\n      <td>22/01/2018</td>\n      <td>3.0</td>\n    </tr>\n    <tr>\n      <td>4</td>\n      <td>CT</td>\n      <td>26/03/2018</td>\n      <td>4.0</td>\n    </tr>\n  </tbody>\n</table>\n</div>"
     },
     "metadata": {},
     "execution_count": 279
    }
   ],
   "source": [
    "data.head(5)"
   ]
  },
  {
   "cell_type": "code",
   "execution_count": 280,
   "metadata": {},
   "outputs": [],
   "source": [
    "#Get day, month, year\n",
    "\n",
    "data['dia'] = data['Data'].str.slice(stop=2)\n",
    "data['mes'] = data['Data'].str.slice(start=3, stop=5)\n",
    "data['ano'] = data['Data'].str.slice(start=6)\n",
    "\n",
    "data[\"dia\"] = data[\"dia\"].apply(pd.to_numeric)\n",
    "data[\"mes\"] = data[\"mes\"].apply(pd.to_numeric)\n",
    "data[\"ano\"] = data[\"ano\"].apply(pd.to_numeric)"
   ]
  },
  {
   "cell_type": "code",
   "execution_count": 281,
   "metadata": {},
   "outputs": [],
   "source": [
    "#Continuous Julian date with added year\n",
    "\n",
    "data['dia_juliano'] = 0\n",
    "\n",
    "for i in range(0,len(data['mes'])):\n",
    "    data['dia_juliano'][i] = int(datetime.date(data['ano'][i],data['mes'][i],data['dia'][i]).timetuple().tm_yday)\n",
    "\n",
    "data['dia_juliano'] =  data['dia_juliano'] + (data['ano'] -2017)*365"
   ]
  },
  {
   "cell_type": "code",
   "execution_count": 282,
   "metadata": {},
   "outputs": [],
   "source": [
    "#Get weekday\n",
    "\n",
    "data['dia_semana'] = 0\n",
    "\n",
    "for i in range(0,len(data['ano'])):\n",
    "    data['dia_semana'][i] = datetime.date(data['ano'][i],\n",
    "                                      data['mes'][i],\n",
    "                                      data['dia'][i]).weekday()\n"
   ]
  },
  {
   "cell_type": "code",
   "execution_count": 283,
   "metadata": {},
   "outputs": [],
   "source": [
    "# Get after holiday bool variable\n",
    "\n",
    "holidays = holidays.PT()\n",
    "\n",
    "data['dps_fri'] = 0\n",
    "\n",
    "for i in range(0,len(data['mes'])):\n",
    "    data['dps_fri'][i] = ((datetime.date(data['ano'][i],data['mes'][i],data['dia'][i]) - datetime.timedelta(days=1)) in holidays)"
   ]
  },
  {
   "cell_type": "code",
   "execution_count": 284,
   "metadata": {},
   "outputs": [],
   "source": [
    "#Get periodic variables from cos of linear interpolation\n",
    "\n",
    "\n",
    "data['per_mes'] = ((data['mes']-1)/(12-1))*(2*math.pi)\n",
    "data['per_dia'] = ((data['dia']-1)/(31-1))*(2*math.pi)\n",
    "data['per_dia_semana'] = ((data['dia_semana']-0)/(6-0))*(2*math.pi)\n",
    "data['per_dia_juliano'] = ((data['dia_juliano']-1)/(365-1))*(2*math.pi)\n",
    "\n",
    "for i in range(0,len(data['per_mes'])):\n",
    "    data['per_mes'][i]=math.cos(data['per_mes'][i])\n",
    "\n",
    "for i in range(0,len(data['per_dia'])):\n",
    "    data['per_dia'][i]=math.cos(data['per_dia'][i])\n",
    "\n",
    "for i in range(0,len(data['per_dia_semana'])):\n",
    "    data['per_dia_semana'][i]=math.cos(data['per_dia_semana'][i])\n",
    "\n",
    "for i in range(0,len(data['per_dia_juliano'])):\n",
    "    data['per_dia_juliano'][i]=math.cos(data['per_dia_juliano'][i])"
   ]
  },
  {
   "cell_type": "code",
   "execution_count": 285,
   "metadata": {},
   "outputs": [
    {
     "output_type": "execute_result",
     "data": {
      "text/plain": [
       "  Tipo        Data  Duraçao  dia  mes   ano  dia_juliano  dia_semana dps_fri  \\\n",
       "0   CT  17/04/2019      3.0   17    4  2019          837           2   False   \n",
       "1   CT  27/08/2018      3.0   27    8  2018          604           0   False   \n",
       "2   CT  04/06/2018      3.0    4    6  2018          520           0   False   \n",
       "3   CT  22/01/2018      3.0   22    1  2018          387           0   False   \n",
       "4   CT  26/03/2018      4.0   26    3  2018          450           0   False   \n",
       "\n",
       "    per_mes   per_dia  per_dia_semana  per_dia_juliano  \n",
       "0 -0.142315 -0.978148            -0.5        -0.289252  \n",
       "1 -0.654861  0.669131             1.0        -0.553775  \n",
       "2 -0.959493  0.809017             1.0        -0.893346  \n",
       "3  1.000000 -0.309017             1.0         0.928756  \n",
       "4  0.415415  0.500000             1.0         0.103384  "
      ],
      "text/html": "<div>\n<style scoped>\n    .dataframe tbody tr th:only-of-type {\n        vertical-align: middle;\n    }\n\n    .dataframe tbody tr th {\n        vertical-align: top;\n    }\n\n    .dataframe thead th {\n        text-align: right;\n    }\n</style>\n<table border=\"1\" class=\"dataframe\">\n  <thead>\n    <tr style=\"text-align: right;\">\n      <th></th>\n      <th>Tipo</th>\n      <th>Data</th>\n      <th>Duraçao</th>\n      <th>dia</th>\n      <th>mes</th>\n      <th>ano</th>\n      <th>dia_juliano</th>\n      <th>dia_semana</th>\n      <th>dps_fri</th>\n      <th>per_mes</th>\n      <th>per_dia</th>\n      <th>per_dia_semana</th>\n      <th>per_dia_juliano</th>\n    </tr>\n  </thead>\n  <tbody>\n    <tr>\n      <td>0</td>\n      <td>CT</td>\n      <td>17/04/2019</td>\n      <td>3.0</td>\n      <td>17</td>\n      <td>4</td>\n      <td>2019</td>\n      <td>837</td>\n      <td>2</td>\n      <td>False</td>\n      <td>-0.142315</td>\n      <td>-0.978148</td>\n      <td>-0.5</td>\n      <td>-0.289252</td>\n    </tr>\n    <tr>\n      <td>1</td>\n      <td>CT</td>\n      <td>27/08/2018</td>\n      <td>3.0</td>\n      <td>27</td>\n      <td>8</td>\n      <td>2018</td>\n      <td>604</td>\n      <td>0</td>\n      <td>False</td>\n      <td>-0.654861</td>\n      <td>0.669131</td>\n      <td>1.0</td>\n      <td>-0.553775</td>\n    </tr>\n    <tr>\n      <td>2</td>\n      <td>CT</td>\n      <td>04/06/2018</td>\n      <td>3.0</td>\n      <td>4</td>\n      <td>6</td>\n      <td>2018</td>\n      <td>520</td>\n      <td>0</td>\n      <td>False</td>\n      <td>-0.959493</td>\n      <td>0.809017</td>\n      <td>1.0</td>\n      <td>-0.893346</td>\n    </tr>\n    <tr>\n      <td>3</td>\n      <td>CT</td>\n      <td>22/01/2018</td>\n      <td>3.0</td>\n      <td>22</td>\n      <td>1</td>\n      <td>2018</td>\n      <td>387</td>\n      <td>0</td>\n      <td>False</td>\n      <td>1.000000</td>\n      <td>-0.309017</td>\n      <td>1.0</td>\n      <td>0.928756</td>\n    </tr>\n    <tr>\n      <td>4</td>\n      <td>CT</td>\n      <td>26/03/2018</td>\n      <td>4.0</td>\n      <td>26</td>\n      <td>3</td>\n      <td>2018</td>\n      <td>450</td>\n      <td>0</td>\n      <td>False</td>\n      <td>0.415415</td>\n      <td>0.500000</td>\n      <td>1.0</td>\n      <td>0.103384</td>\n    </tr>\n  </tbody>\n</table>\n</div>"
     },
     "metadata": {},
     "execution_count": 285
    }
   ],
   "source": [
    "data.head(5)"
   ]
  },
  {
   "cell_type": "code",
   "execution_count": 286,
   "metadata": {},
   "outputs": [
    {
     "output_type": "execute_result",
     "data": {
      "text/plain": [
       "          Duraçao         dia         mes          ano  dia_juliano  \\\n",
       "count  288.000000  288.000000  288.000000   288.000000   288.000000   \n",
       "mean     2.881944   14.736111    6.548611  2019.107639   952.197917   \n",
       "std      0.855371    9.036115    3.676519     1.035373   346.890848   \n",
       "min      1.000000    1.000000    1.000000  2017.000000   205.000000   \n",
       "25%      2.000000    6.750000    3.000000  2018.000000   689.500000   \n",
       "50%      3.000000   14.000000    6.000000  2019.000000   962.000000   \n",
       "75%      3.000000   23.000000   10.000000  2020.000000  1179.500000   \n",
       "max      7.000000   31.000000   12.000000  2021.000000  1716.000000   \n",
       "\n",
       "       dia_semana     per_mes     per_dia  per_dia_semana  per_dia_juliano  \n",
       "count  288.000000  288.000000  288.000000      288.000000       288.000000  \n",
       "mean     1.770833    0.166909    0.067368       -0.015625         0.086764  \n",
       "std      1.463701    0.747168    0.725601        0.825718         0.722563  \n",
       "min      0.000000   -0.959493   -1.000000       -1.000000        -0.999404  \n",
       "25%      0.000000   -0.654861   -0.669131       -1.000000        -0.626840  \n",
       "50%      2.000000    0.415415    0.104528       -0.500000         0.188738  \n",
       "75%      3.000000    0.841254    0.809017        1.000000         0.813056  \n",
       "max      6.000000    1.000000    1.000000        1.000000         0.999404  "
      ],
      "text/html": "<div>\n<style scoped>\n    .dataframe tbody tr th:only-of-type {\n        vertical-align: middle;\n    }\n\n    .dataframe tbody tr th {\n        vertical-align: top;\n    }\n\n    .dataframe thead th {\n        text-align: right;\n    }\n</style>\n<table border=\"1\" class=\"dataframe\">\n  <thead>\n    <tr style=\"text-align: right;\">\n      <th></th>\n      <th>Duraçao</th>\n      <th>dia</th>\n      <th>mes</th>\n      <th>ano</th>\n      <th>dia_juliano</th>\n      <th>dia_semana</th>\n      <th>per_mes</th>\n      <th>per_dia</th>\n      <th>per_dia_semana</th>\n      <th>per_dia_juliano</th>\n    </tr>\n  </thead>\n  <tbody>\n    <tr>\n      <td>count</td>\n      <td>288.000000</td>\n      <td>288.000000</td>\n      <td>288.000000</td>\n      <td>288.000000</td>\n      <td>288.000000</td>\n      <td>288.000000</td>\n      <td>288.000000</td>\n      <td>288.000000</td>\n      <td>288.000000</td>\n      <td>288.000000</td>\n    </tr>\n    <tr>\n      <td>mean</td>\n      <td>2.881944</td>\n      <td>14.736111</td>\n      <td>6.548611</td>\n      <td>2019.107639</td>\n      <td>952.197917</td>\n      <td>1.770833</td>\n      <td>0.166909</td>\n      <td>0.067368</td>\n      <td>-0.015625</td>\n      <td>0.086764</td>\n    </tr>\n    <tr>\n      <td>std</td>\n      <td>0.855371</td>\n      <td>9.036115</td>\n      <td>3.676519</td>\n      <td>1.035373</td>\n      <td>346.890848</td>\n      <td>1.463701</td>\n      <td>0.747168</td>\n      <td>0.725601</td>\n      <td>0.825718</td>\n      <td>0.722563</td>\n    </tr>\n    <tr>\n      <td>min</td>\n      <td>1.000000</td>\n      <td>1.000000</td>\n      <td>1.000000</td>\n      <td>2017.000000</td>\n      <td>205.000000</td>\n      <td>0.000000</td>\n      <td>-0.959493</td>\n      <td>-1.000000</td>\n      <td>-1.000000</td>\n      <td>-0.999404</td>\n    </tr>\n    <tr>\n      <td>25%</td>\n      <td>2.000000</td>\n      <td>6.750000</td>\n      <td>3.000000</td>\n      <td>2018.000000</td>\n      <td>689.500000</td>\n      <td>0.000000</td>\n      <td>-0.654861</td>\n      <td>-0.669131</td>\n      <td>-1.000000</td>\n      <td>-0.626840</td>\n    </tr>\n    <tr>\n      <td>50%</td>\n      <td>3.000000</td>\n      <td>14.000000</td>\n      <td>6.000000</td>\n      <td>2019.000000</td>\n      <td>962.000000</td>\n      <td>2.000000</td>\n      <td>0.415415</td>\n      <td>0.104528</td>\n      <td>-0.500000</td>\n      <td>0.188738</td>\n    </tr>\n    <tr>\n      <td>75%</td>\n      <td>3.000000</td>\n      <td>23.000000</td>\n      <td>10.000000</td>\n      <td>2020.000000</td>\n      <td>1179.500000</td>\n      <td>3.000000</td>\n      <td>0.841254</td>\n      <td>0.809017</td>\n      <td>1.000000</td>\n      <td>0.813056</td>\n    </tr>\n    <tr>\n      <td>max</td>\n      <td>7.000000</td>\n      <td>31.000000</td>\n      <td>12.000000</td>\n      <td>2021.000000</td>\n      <td>1716.000000</td>\n      <td>6.000000</td>\n      <td>1.000000</td>\n      <td>1.000000</td>\n      <td>1.000000</td>\n      <td>0.999404</td>\n    </tr>\n  </tbody>\n</table>\n</div>"
     },
     "metadata": {},
     "execution_count": 286
    }
   ],
   "source": [
    "data.describe()"
   ]
  },
  {
   "cell_type": "code",
   "execution_count": 287,
   "metadata": {},
   "outputs": [
    {
     "output_type": "execute_result",
     "data": {
      "text/plain": [
       "         CT        ST     Total\n",
       "0  2.872587  2.965517  2.881944"
      ],
      "text/html": "<div>\n<style scoped>\n    .dataframe tbody tr th:only-of-type {\n        vertical-align: middle;\n    }\n\n    .dataframe tbody tr th {\n        vertical-align: top;\n    }\n\n    .dataframe thead th {\n        text-align: right;\n    }\n</style>\n<table border=\"1\" class=\"dataframe\">\n  <thead>\n    <tr style=\"text-align: right;\">\n      <th></th>\n      <th>CT</th>\n      <th>ST</th>\n      <th>Total</th>\n    </tr>\n  </thead>\n  <tbody>\n    <tr>\n      <td>0</td>\n      <td>2.872587</td>\n      <td>2.965517</td>\n      <td>2.881944</td>\n    </tr>\n  </tbody>\n</table>\n</div>"
     },
     "metadata": {},
     "execution_count": 287
    }
   ],
   "source": [
    "#Média por Tipo\n",
    "\n",
    "pd.DataFrame({\n",
    "    'CT': [data[data['Tipo']=='CT']['Duraçao'].mean()],\n",
    "    'ST':[data[data['Tipo']=='ST']['Duraçao'].mean()],\n",
    "    'Total': [data['Duraçao'].mean()]})\n"
   ]
  },
  {
   "cell_type": "code",
   "execution_count": 288,
   "metadata": {},
   "outputs": [
    {
     "output_type": "execute_result",
     "data": {
      "text/plain": [
       "           CT        ST     Total\n",
       "mes                              \n",
       "1    2.750000  4.000000  2.870968\n",
       "2    2.560000       NaN  2.560000\n",
       "3    2.681818  3.000000  2.695652\n",
       "4    2.888889  3.000000  2.894737\n",
       "5    2.842105  3.500000  2.904762\n",
       "6    2.800000  5.000000  2.884615\n",
       "7    3.176471  2.500000  3.047619\n",
       "8    3.444444  2.000000  3.368421\n",
       "9    3.111111  3.000000  3.095238\n",
       "10   2.826087  3.000000  2.846154\n",
       "11   3.055556  2.333333  2.952381\n",
       "12   2.714286  2.714286  2.714286"
      ],
      "text/html": "<div>\n<style scoped>\n    .dataframe tbody tr th:only-of-type {\n        vertical-align: middle;\n    }\n\n    .dataframe tbody tr th {\n        vertical-align: top;\n    }\n\n    .dataframe thead th {\n        text-align: right;\n    }\n</style>\n<table border=\"1\" class=\"dataframe\">\n  <thead>\n    <tr style=\"text-align: right;\">\n      <th></th>\n      <th>CT</th>\n      <th>ST</th>\n      <th>Total</th>\n    </tr>\n    <tr>\n      <th>mes</th>\n      <th></th>\n      <th></th>\n      <th></th>\n    </tr>\n  </thead>\n  <tbody>\n    <tr>\n      <td>1</td>\n      <td>2.750000</td>\n      <td>4.000000</td>\n      <td>2.870968</td>\n    </tr>\n    <tr>\n      <td>2</td>\n      <td>2.560000</td>\n      <td>NaN</td>\n      <td>2.560000</td>\n    </tr>\n    <tr>\n      <td>3</td>\n      <td>2.681818</td>\n      <td>3.000000</td>\n      <td>2.695652</td>\n    </tr>\n    <tr>\n      <td>4</td>\n      <td>2.888889</td>\n      <td>3.000000</td>\n      <td>2.894737</td>\n    </tr>\n    <tr>\n      <td>5</td>\n      <td>2.842105</td>\n      <td>3.500000</td>\n      <td>2.904762</td>\n    </tr>\n    <tr>\n      <td>6</td>\n      <td>2.800000</td>\n      <td>5.000000</td>\n      <td>2.884615</td>\n    </tr>\n    <tr>\n      <td>7</td>\n      <td>3.176471</td>\n      <td>2.500000</td>\n      <td>3.047619</td>\n    </tr>\n    <tr>\n      <td>8</td>\n      <td>3.444444</td>\n      <td>2.000000</td>\n      <td>3.368421</td>\n    </tr>\n    <tr>\n      <td>9</td>\n      <td>3.111111</td>\n      <td>3.000000</td>\n      <td>3.095238</td>\n    </tr>\n    <tr>\n      <td>10</td>\n      <td>2.826087</td>\n      <td>3.000000</td>\n      <td>2.846154</td>\n    </tr>\n    <tr>\n      <td>11</td>\n      <td>3.055556</td>\n      <td>2.333333</td>\n      <td>2.952381</td>\n    </tr>\n    <tr>\n      <td>12</td>\n      <td>2.714286</td>\n      <td>2.714286</td>\n      <td>2.714286</td>\n    </tr>\n  </tbody>\n</table>\n</div>"
     },
     "metadata": {},
     "execution_count": 288
    }
   ],
   "source": [
    "#Média por Tipo agrupada por mês\n",
    "\n",
    "pd.concat(\n",
    "    [data[data['Tipo']=='CT'].groupby('mes')['Duraçao'].mean().rename('CT')\n",
    "    ,data[data['Tipo']=='ST'].groupby('mes')['Duraçao'].mean().rename('ST'),\n",
    "    data.groupby('mes')['Duraçao'].mean().rename('Total')]\n",
    "    ,axis=1)"
   ]
  },
  {
   "cell_type": "code",
   "execution_count": 289,
   "metadata": {},
   "outputs": [
    {
     "output_type": "execute_result",
     "data": {
      "text/plain": [
       "           CT        ST     Total\n",
       "dia                              \n",
       "1    2.800000       NaN  2.800000\n",
       "2    2.937500       NaN  2.937500\n",
       "3    2.777778  2.000000  2.700000\n",
       "4    2.818182       NaN  2.818182\n",
       "5    2.416667       NaN  2.416667\n",
       "6    2.923077       NaN  2.923077\n",
       "7    3.000000  2.000000  2.857143\n",
       "8    3.000000       NaN  3.000000\n",
       "9    3.000000  2.500000  2.900000\n",
       "10   3.111111  2.000000  3.000000\n",
       "11   3.000000       NaN  3.000000\n",
       "12   2.666667  3.000000  2.705882\n",
       "13   2.333333  2.000000  2.285714\n",
       "14   3.222222       NaN  3.222222\n",
       "15   3.000000  4.000000  3.285714\n",
       "16   2.888889       NaN  2.888889\n",
       "17   3.000000  2.000000  2.900000\n",
       "18   2.428571  5.000000  3.000000\n",
       "19   2.000000  2.333333  2.100000\n",
       "20   3.571429       NaN  3.571429\n",
       "21   2.800000  5.000000  3.166667\n",
       "22   3.000000       NaN  3.000000\n",
       "23   2.600000       NaN  2.600000\n",
       "24   3.250000  3.000000  3.200000\n",
       "25   3.333333  2.000000  3.200000\n",
       "26   2.545455  3.500000  2.692308\n",
       "27   2.857143  3.333333  3.000000\n",
       "28   3.000000  2.500000  2.916667\n",
       "29   2.666667  3.000000  2.714286\n",
       "30   3.666667       NaN  3.666667\n",
       "31   2.750000  2.500000  2.666667"
      ],
      "text/html": "<div>\n<style scoped>\n    .dataframe tbody tr th:only-of-type {\n        vertical-align: middle;\n    }\n\n    .dataframe tbody tr th {\n        vertical-align: top;\n    }\n\n    .dataframe thead th {\n        text-align: right;\n    }\n</style>\n<table border=\"1\" class=\"dataframe\">\n  <thead>\n    <tr style=\"text-align: right;\">\n      <th></th>\n      <th>CT</th>\n      <th>ST</th>\n      <th>Total</th>\n    </tr>\n    <tr>\n      <th>dia</th>\n      <th></th>\n      <th></th>\n      <th></th>\n    </tr>\n  </thead>\n  <tbody>\n    <tr>\n      <td>1</td>\n      <td>2.800000</td>\n      <td>NaN</td>\n      <td>2.800000</td>\n    </tr>\n    <tr>\n      <td>2</td>\n      <td>2.937500</td>\n      <td>NaN</td>\n      <td>2.937500</td>\n    </tr>\n    <tr>\n      <td>3</td>\n      <td>2.777778</td>\n      <td>2.000000</td>\n      <td>2.700000</td>\n    </tr>\n    <tr>\n      <td>4</td>\n      <td>2.818182</td>\n      <td>NaN</td>\n      <td>2.818182</td>\n    </tr>\n    <tr>\n      <td>5</td>\n      <td>2.416667</td>\n      <td>NaN</td>\n      <td>2.416667</td>\n    </tr>\n    <tr>\n      <td>6</td>\n      <td>2.923077</td>\n      <td>NaN</td>\n      <td>2.923077</td>\n    </tr>\n    <tr>\n      <td>7</td>\n      <td>3.000000</td>\n      <td>2.000000</td>\n      <td>2.857143</td>\n    </tr>\n    <tr>\n      <td>8</td>\n      <td>3.000000</td>\n      <td>NaN</td>\n      <td>3.000000</td>\n    </tr>\n    <tr>\n      <td>9</td>\n      <td>3.000000</td>\n      <td>2.500000</td>\n      <td>2.900000</td>\n    </tr>\n    <tr>\n      <td>10</td>\n      <td>3.111111</td>\n      <td>2.000000</td>\n      <td>3.000000</td>\n    </tr>\n    <tr>\n      <td>11</td>\n      <td>3.000000</td>\n      <td>NaN</td>\n      <td>3.000000</td>\n    </tr>\n    <tr>\n      <td>12</td>\n      <td>2.666667</td>\n      <td>3.000000</td>\n      <td>2.705882</td>\n    </tr>\n    <tr>\n      <td>13</td>\n      <td>2.333333</td>\n      <td>2.000000</td>\n      <td>2.285714</td>\n    </tr>\n    <tr>\n      <td>14</td>\n      <td>3.222222</td>\n      <td>NaN</td>\n      <td>3.222222</td>\n    </tr>\n    <tr>\n      <td>15</td>\n      <td>3.000000</td>\n      <td>4.000000</td>\n      <td>3.285714</td>\n    </tr>\n    <tr>\n      <td>16</td>\n      <td>2.888889</td>\n      <td>NaN</td>\n      <td>2.888889</td>\n    </tr>\n    <tr>\n      <td>17</td>\n      <td>3.000000</td>\n      <td>2.000000</td>\n      <td>2.900000</td>\n    </tr>\n    <tr>\n      <td>18</td>\n      <td>2.428571</td>\n      <td>5.000000</td>\n      <td>3.000000</td>\n    </tr>\n    <tr>\n      <td>19</td>\n      <td>2.000000</td>\n      <td>2.333333</td>\n      <td>2.100000</td>\n    </tr>\n    <tr>\n      <td>20</td>\n      <td>3.571429</td>\n      <td>NaN</td>\n      <td>3.571429</td>\n    </tr>\n    <tr>\n      <td>21</td>\n      <td>2.800000</td>\n      <td>5.000000</td>\n      <td>3.166667</td>\n    </tr>\n    <tr>\n      <td>22</td>\n      <td>3.000000</td>\n      <td>NaN</td>\n      <td>3.000000</td>\n    </tr>\n    <tr>\n      <td>23</td>\n      <td>2.600000</td>\n      <td>NaN</td>\n      <td>2.600000</td>\n    </tr>\n    <tr>\n      <td>24</td>\n      <td>3.250000</td>\n      <td>3.000000</td>\n      <td>3.200000</td>\n    </tr>\n    <tr>\n      <td>25</td>\n      <td>3.333333</td>\n      <td>2.000000</td>\n      <td>3.200000</td>\n    </tr>\n    <tr>\n      <td>26</td>\n      <td>2.545455</td>\n      <td>3.500000</td>\n      <td>2.692308</td>\n    </tr>\n    <tr>\n      <td>27</td>\n      <td>2.857143</td>\n      <td>3.333333</td>\n      <td>3.000000</td>\n    </tr>\n    <tr>\n      <td>28</td>\n      <td>3.000000</td>\n      <td>2.500000</td>\n      <td>2.916667</td>\n    </tr>\n    <tr>\n      <td>29</td>\n      <td>2.666667</td>\n      <td>3.000000</td>\n      <td>2.714286</td>\n    </tr>\n    <tr>\n      <td>30</td>\n      <td>3.666667</td>\n      <td>NaN</td>\n      <td>3.666667</td>\n    </tr>\n    <tr>\n      <td>31</td>\n      <td>2.750000</td>\n      <td>2.500000</td>\n      <td>2.666667</td>\n    </tr>\n  </tbody>\n</table>\n</div>"
     },
     "metadata": {},
     "execution_count": 289
    }
   ],
   "source": [
    "#Média por Tipo agrupada por dia\n",
    "\n",
    "pd.concat(\n",
    "    [data[data['Tipo']=='CT'].groupby('dia')['Duraçao'].mean().rename('CT')\n",
    "    ,data[data['Tipo']=='ST'].groupby('dia')['Duraçao'].mean().rename('ST'),\n",
    "    data.groupby('dia')['Duraçao'].mean().rename('Total')]\n",
    "    ,axis=1)"
   ]
  },
  {
   "cell_type": "code",
   "execution_count": 290,
   "metadata": {},
   "outputs": [
    {
     "output_type": "execute_result",
     "data": {
      "text/plain": [
       "            CT        ST     Total\n",
       "ano                               \n",
       "2017  2.250000  2.285714  2.272727\n",
       "2018  2.725806  2.900000  2.750000\n",
       "2019  3.009346  3.500000  3.043478\n",
       "2020  3.117647  3.250000  3.127273\n",
       "2021  2.428571       NaN  2.428571"
      ],
      "text/html": "<div>\n<style scoped>\n    .dataframe tbody tr th:only-of-type {\n        vertical-align: middle;\n    }\n\n    .dataframe tbody tr th {\n        vertical-align: top;\n    }\n\n    .dataframe thead th {\n        text-align: right;\n    }\n</style>\n<table border=\"1\" class=\"dataframe\">\n  <thead>\n    <tr style=\"text-align: right;\">\n      <th></th>\n      <th>CT</th>\n      <th>ST</th>\n      <th>Total</th>\n    </tr>\n    <tr>\n      <th>ano</th>\n      <th></th>\n      <th></th>\n      <th></th>\n    </tr>\n  </thead>\n  <tbody>\n    <tr>\n      <td>2017</td>\n      <td>2.250000</td>\n      <td>2.285714</td>\n      <td>2.272727</td>\n    </tr>\n    <tr>\n      <td>2018</td>\n      <td>2.725806</td>\n      <td>2.900000</td>\n      <td>2.750000</td>\n    </tr>\n    <tr>\n      <td>2019</td>\n      <td>3.009346</td>\n      <td>3.500000</td>\n      <td>3.043478</td>\n    </tr>\n    <tr>\n      <td>2020</td>\n      <td>3.117647</td>\n      <td>3.250000</td>\n      <td>3.127273</td>\n    </tr>\n    <tr>\n      <td>2021</td>\n      <td>2.428571</td>\n      <td>NaN</td>\n      <td>2.428571</td>\n    </tr>\n  </tbody>\n</table>\n</div>"
     },
     "metadata": {},
     "execution_count": 290
    }
   ],
   "source": [
    "#Média por Tipo agrupada por ano\n",
    "\n",
    "pd.concat(\n",
    "    [data[data['Tipo']=='CT'].groupby('ano')['Duraçao'].mean().rename('CT')\n",
    "    ,data[data['Tipo']=='ST'].groupby('ano')['Duraçao'].mean().rename('ST'),\n",
    "    data.groupby('ano')['Duraçao'].mean().rename('Total')]\n",
    "    ,axis=1)"
   ]
  }
 ]
}