{
 "metadata": {
  "language_info": {
   "codemirror_mode": {
    "name": "ipython",
    "version": 3
   },
   "file_extension": ".py",
   "mimetype": "text/x-python",
   "name": "python",
   "nbconvert_exporter": "python",
   "pygments_lexer": "ipython3",
   "version": "3.7.4"
  },
  "orig_nbformat": 2,
  "kernelspec": {
   "name": "python374jvsc74a57bd0b3ba2566441a7c06988d0923437866b63cedc61552a5af99d1f4fb67d367b25f",
   "display_name": "Python 3.7.4 64-bit ('base': conda)"
  }
 },
 "nbformat": 4,
 "nbformat_minor": 2,
 "cells": [
  {
   "cell_type": "code",
   "execution_count": 355,
   "metadata": {},
   "outputs": [],
   "source": [
    "import numpy\n",
    "import pandas as pd\n",
    "import math\n",
    "import datetime\n",
    "\n",
    "#allow to change individual cell values\n",
    "pd.set_option('mode.chained_assignment', None)\n",
    "\n",
    "data = pd.read_csv(\"ResumoDataEnsaios.csv\", delimiter=\";\")"
   ]
  },
  {
   "cell_type": "code",
   "execution_count": 356,
   "metadata": {},
   "outputs": [],
   "source": [
    "data = data.rename(columns={'Data Ensaio': 'Data'})\n",
    "data = data.drop(columns='Projeto')\n",
    "data = data.dropna()"
   ]
  },
  {
   "cell_type": "code",
   "execution_count": 357,
   "metadata": {},
   "outputs": [],
   "source": [
    "#Get day, month, year\n",
    "\n",
    "data['dia'] = data['Data'].str.slice(stop=2)\n",
    "data['mes'] = data['Data'].str.slice(start=3, stop=5)\n",
    "data['ano'] = data['Data'].str.slice(start=6)\n",
    "\n",
    "data[\"dia\"] = data[\"dia\"].apply(pd.to_numeric)\n",
    "data[\"mes\"] = data[\"mes\"].apply(pd.to_numeric)\n",
    "data[\"ano\"] = data[\"ano\"].apply(pd.to_numeric)"
   ]
  },
  {
   "cell_type": "code",
   "execution_count": 358,
   "metadata": {},
   "outputs": [],
   "source": [
    "#Continuous Julian date with added year\n",
    "\n",
    "data['dia_juliano'] = 0\n",
    "\n",
    "for i in range(0,len(data['mes'])):\n",
    "    data['dia_juliano'][i] = int(datetime.date(data['ano'][i],data['mes'][i],data['dia'][i]).timetuple().tm_yday)\n",
    "\n",
    "data['dia_juliano'] =  data['dia_juliano'] + (data['ano'] -2017)*365"
   ]
  },
  {
   "cell_type": "code",
   "execution_count": 359,
   "metadata": {},
   "outputs": [],
   "source": [
    "#Get weekday\n",
    "\n",
    "data['dia_semana'] = 0\n",
    "\n",
    "for i in range(0,len(data['ano'])):\n",
    "    data['dia_semana'][i] = datetime.date(data['ano'][i],\n",
    "                                      data['mes'][i],\n",
    "                                      data['dia'][i]).weekday()\n"
   ]
  },
  {
   "cell_type": "code",
   "execution_count": 360,
   "metadata": {},
   "outputs": [],
   "source": [
    "#Get periodic variables from cos of linear interpolation\n",
    "\n",
    "\n",
    "data['per_mes'] = ((data['mes']-1)/(12-1))*(2*math.pi)\n",
    "data['per_dia'] = ((data['dia']-1)/(31-1))*(2*math.pi)\n",
    "data['per_dia_semana'] = ((data['dia_semana']-0)/(6-0))*(2*math.pi)\n",
    "data['per_dia_juliano'] = ((data['dia_juliano']-1)/(365-1))*(2*math.pi)\n",
    "\n",
    "for i in range(0,len(data['per_mes'])):\n",
    "    data['per_mes'][i]=math.cos(data['per_mes'][i])\n",
    "\n",
    "for i in range(0,len(data['per_dia'])):\n",
    "    data['per_dia'][i]=math.cos(data['per_dia'][i])\n",
    "\n",
    "for i in range(0,len(data['per_dia_semana'])):\n",
    "    data['per_dia_semana'][i]=math.cos(data['per_dia_semana'][i])\n",
    "\n",
    "for i in range(0,len(data['per_dia_juliano'])):\n",
    "    data['per_dia_juliano'][i]=math.cos(data['per_dia_juliano'][i])"
   ]
  },
  {
   "cell_type": "code",
   "execution_count": 361,
   "metadata": {},
   "outputs": [
    {
     "output_type": "execute_result",
     "data": {
      "text/plain": [
       "  Tipo        Data  Duraçao  dia  mes   ano  dia_juliano  dia_semana  \\\n",
       "0   CT  17/04/2019      3.0   17    4  2019          837           2   \n",
       "1   CT  27/08/2018      3.0   27    8  2018          604           0   \n",
       "2   CT  04/06/2018      3.0    4    6  2018          520           0   \n",
       "3   CT  22/01/2018      3.0   22    1  2018          387           0   \n",
       "4   CT  26/03/2018      4.0   26    3  2018          450           0   \n",
       "\n",
       "    per_mes   per_dia  per_dia_semana  per_dia_juliano  \n",
       "0 -0.142315 -0.978148            -0.5        -0.289252  \n",
       "1 -0.654861  0.669131             1.0        -0.553775  \n",
       "2 -0.959493  0.809017             1.0        -0.893346  \n",
       "3  1.000000 -0.309017             1.0         0.928756  \n",
       "4  0.415415  0.500000             1.0         0.103384  "
      ],
      "text/html": "<div>\n<style scoped>\n    .dataframe tbody tr th:only-of-type {\n        vertical-align: middle;\n    }\n\n    .dataframe tbody tr th {\n        vertical-align: top;\n    }\n\n    .dataframe thead th {\n        text-align: right;\n    }\n</style>\n<table border=\"1\" class=\"dataframe\">\n  <thead>\n    <tr style=\"text-align: right;\">\n      <th></th>\n      <th>Tipo</th>\n      <th>Data</th>\n      <th>Duraçao</th>\n      <th>dia</th>\n      <th>mes</th>\n      <th>ano</th>\n      <th>dia_juliano</th>\n      <th>dia_semana</th>\n      <th>per_mes</th>\n      <th>per_dia</th>\n      <th>per_dia_semana</th>\n      <th>per_dia_juliano</th>\n    </tr>\n  </thead>\n  <tbody>\n    <tr>\n      <td>0</td>\n      <td>CT</td>\n      <td>17/04/2019</td>\n      <td>3.0</td>\n      <td>17</td>\n      <td>4</td>\n      <td>2019</td>\n      <td>837</td>\n      <td>2</td>\n      <td>-0.142315</td>\n      <td>-0.978148</td>\n      <td>-0.5</td>\n      <td>-0.289252</td>\n    </tr>\n    <tr>\n      <td>1</td>\n      <td>CT</td>\n      <td>27/08/2018</td>\n      <td>3.0</td>\n      <td>27</td>\n      <td>8</td>\n      <td>2018</td>\n      <td>604</td>\n      <td>0</td>\n      <td>-0.654861</td>\n      <td>0.669131</td>\n      <td>1.0</td>\n      <td>-0.553775</td>\n    </tr>\n    <tr>\n      <td>2</td>\n      <td>CT</td>\n      <td>04/06/2018</td>\n      <td>3.0</td>\n      <td>4</td>\n      <td>6</td>\n      <td>2018</td>\n      <td>520</td>\n      <td>0</td>\n      <td>-0.959493</td>\n      <td>0.809017</td>\n      <td>1.0</td>\n      <td>-0.893346</td>\n    </tr>\n    <tr>\n      <td>3</td>\n      <td>CT</td>\n      <td>22/01/2018</td>\n      <td>3.0</td>\n      <td>22</td>\n      <td>1</td>\n      <td>2018</td>\n      <td>387</td>\n      <td>0</td>\n      <td>1.000000</td>\n      <td>-0.309017</td>\n      <td>1.0</td>\n      <td>0.928756</td>\n    </tr>\n    <tr>\n      <td>4</td>\n      <td>CT</td>\n      <td>26/03/2018</td>\n      <td>4.0</td>\n      <td>26</td>\n      <td>3</td>\n      <td>2018</td>\n      <td>450</td>\n      <td>0</td>\n      <td>0.415415</td>\n      <td>0.500000</td>\n      <td>1.0</td>\n      <td>0.103384</td>\n    </tr>\n  </tbody>\n</table>\n</div>"
     },
     "metadata": {},
     "execution_count": 361
    }
   ],
   "source": [
    "data.head()\n"
   ]
  },
  {
   "cell_type": "code",
   "execution_count": 362,
   "metadata": {},
   "outputs": [
    {
     "output_type": "execute_result",
     "data": {
      "text/plain": [
       "          Duraçao         dia         mes          ano  dia_juliano  \\\n",
       "count  288.000000  288.000000  288.000000   288.000000   288.000000   \n",
       "mean     2.881944   14.736111    6.548611  2019.107639   952.197917   \n",
       "std      0.855371    9.036115    3.676519     1.035373   346.890848   \n",
       "min      1.000000    1.000000    1.000000  2017.000000   205.000000   \n",
       "25%      2.000000    6.750000    3.000000  2018.000000   689.500000   \n",
       "50%      3.000000   14.000000    6.000000  2019.000000   962.000000   \n",
       "75%      3.000000   23.000000   10.000000  2020.000000  1179.500000   \n",
       "max      7.000000   31.000000   12.000000  2021.000000  1716.000000   \n",
       "\n",
       "       dia_semana     per_mes     per_dia  per_dia_semana  per_dia_juliano  \n",
       "count  288.000000  288.000000  288.000000      288.000000       288.000000  \n",
       "mean     1.770833    0.166909    0.067368       -0.015625         0.086764  \n",
       "std      1.463701    0.747168    0.725601        0.825718         0.722563  \n",
       "min      0.000000   -0.959493   -1.000000       -1.000000        -0.999404  \n",
       "25%      0.000000   -0.654861   -0.669131       -1.000000        -0.626840  \n",
       "50%      2.000000    0.415415    0.104528       -0.500000         0.188738  \n",
       "75%      3.000000    0.841254    0.809017        1.000000         0.813056  \n",
       "max      6.000000    1.000000    1.000000        1.000000         0.999404  "
      ],
      "text/html": "<div>\n<style scoped>\n    .dataframe tbody tr th:only-of-type {\n        vertical-align: middle;\n    }\n\n    .dataframe tbody tr th {\n        vertical-align: top;\n    }\n\n    .dataframe thead th {\n        text-align: right;\n    }\n</style>\n<table border=\"1\" class=\"dataframe\">\n  <thead>\n    <tr style=\"text-align: right;\">\n      <th></th>\n      <th>Duraçao</th>\n      <th>dia</th>\n      <th>mes</th>\n      <th>ano</th>\n      <th>dia_juliano</th>\n      <th>dia_semana</th>\n      <th>per_mes</th>\n      <th>per_dia</th>\n      <th>per_dia_semana</th>\n      <th>per_dia_juliano</th>\n    </tr>\n  </thead>\n  <tbody>\n    <tr>\n      <td>count</td>\n      <td>288.000000</td>\n      <td>288.000000</td>\n      <td>288.000000</td>\n      <td>288.000000</td>\n      <td>288.000000</td>\n      <td>288.000000</td>\n      <td>288.000000</td>\n      <td>288.000000</td>\n      <td>288.000000</td>\n      <td>288.000000</td>\n    </tr>\n    <tr>\n      <td>mean</td>\n      <td>2.881944</td>\n      <td>14.736111</td>\n      <td>6.548611</td>\n      <td>2019.107639</td>\n      <td>952.197917</td>\n      <td>1.770833</td>\n      <td>0.166909</td>\n      <td>0.067368</td>\n      <td>-0.015625</td>\n      <td>0.086764</td>\n    </tr>\n    <tr>\n      <td>std</td>\n      <td>0.855371</td>\n      <td>9.036115</td>\n      <td>3.676519</td>\n      <td>1.035373</td>\n      <td>346.890848</td>\n      <td>1.463701</td>\n      <td>0.747168</td>\n      <td>0.725601</td>\n      <td>0.825718</td>\n      <td>0.722563</td>\n    </tr>\n    <tr>\n      <td>min</td>\n      <td>1.000000</td>\n      <td>1.000000</td>\n      <td>1.000000</td>\n      <td>2017.000000</td>\n      <td>205.000000</td>\n      <td>0.000000</td>\n      <td>-0.959493</td>\n      <td>-1.000000</td>\n      <td>-1.000000</td>\n      <td>-0.999404</td>\n    </tr>\n    <tr>\n      <td>25%</td>\n      <td>2.000000</td>\n      <td>6.750000</td>\n      <td>3.000000</td>\n      <td>2018.000000</td>\n      <td>689.500000</td>\n      <td>0.000000</td>\n      <td>-0.654861</td>\n      <td>-0.669131</td>\n      <td>-1.000000</td>\n      <td>-0.626840</td>\n    </tr>\n    <tr>\n      <td>50%</td>\n      <td>3.000000</td>\n      <td>14.000000</td>\n      <td>6.000000</td>\n      <td>2019.000000</td>\n      <td>962.000000</td>\n      <td>2.000000</td>\n      <td>0.415415</td>\n      <td>0.104528</td>\n      <td>-0.500000</td>\n      <td>0.188738</td>\n    </tr>\n    <tr>\n      <td>75%</td>\n      <td>3.000000</td>\n      <td>23.000000</td>\n      <td>10.000000</td>\n      <td>2020.000000</td>\n      <td>1179.500000</td>\n      <td>3.000000</td>\n      <td>0.841254</td>\n      <td>0.809017</td>\n      <td>1.000000</td>\n      <td>0.813056</td>\n    </tr>\n    <tr>\n      <td>max</td>\n      <td>7.000000</td>\n      <td>31.000000</td>\n      <td>12.000000</td>\n      <td>2021.000000</td>\n      <td>1716.000000</td>\n      <td>6.000000</td>\n      <td>1.000000</td>\n      <td>1.000000</td>\n      <td>1.000000</td>\n      <td>0.999404</td>\n    </tr>\n  </tbody>\n</table>\n</div>"
     },
     "metadata": {},
     "execution_count": 362
    }
   ],
   "source": [
    "data.describe()"
   ]
  },
  {
   "cell_type": "code",
   "execution_count": null,
   "metadata": {},
   "outputs": [],
   "source": []
  }
 ]
}